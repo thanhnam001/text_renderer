{
 "cells": [
  {
   "cell_type": "code",
   "execution_count": 1,
   "metadata": {},
   "outputs": [],
   "source": [
    "import random\n",
    "import string\n",
    "import os\n",
    "random.seed(0)"
   ]
  },
  {
   "cell_type": "code",
   "execution_count": 2,
   "metadata": {},
   "outputs": [],
   "source": [
    "# N°: 110504057127A\n",
    "def generate_idcard1_id(num):\n",
    "    generated_list = list()\n",
    "    for _ in range(num):\n",
    "        generated_list.append('N°: {numb}{char}'.format(\n",
    "            numb = ''.join(random.choices(string.digits,k=12)),\n",
    "            char = random.choice(string.ascii_uppercase))\n",
    "        )\n",
    "    return generated_list"
   ]
  },
  {
   "cell_type": "code",
   "execution_count": 3,
   "metadata": {},
   "outputs": [],
   "source": [
    "def generate_idcard1_mrz1(num):\n",
    "    generated_list = list()\n",
    "    for _ in range(num):\n",
    "        generated_list.append('IDMOZAA{}{}<<'.format(\n",
    "            ''.join(random.choices(string.digits,k=20)),\n",
    "            random.choice(string.ascii_uppercase))\n",
    "        )\n",
    "    return generated_list"
   ]
  },
  {
   "cell_type": "code",
   "execution_count": 4,
   "metadata": {},
   "outputs": [],
   "source": [
    "def generate_idcard1_mrz2(num):\n",
    "    generated_list = list()\n",
    "    for _ in range(num):\n",
    "        generated_list.append('{num1}{sex}{num2}MOZ<<<<<<<<<<<{num3}'.format(\n",
    "            num1=''.join(random.choices(string.digits,k=7)),\n",
    "            sex=random.choice(['M','F']),\n",
    "            num2=''.join(random.choices(string.digits,k=7)),\n",
    "            num3=random.choice(string.digits),\n",
    "        ))\n",
    "    return generated_list"
   ]
  },
  {
   "cell_type": "code",
   "execution_count": 5,
   "metadata": {},
   "outputs": [],
   "source": [
    "def generate_idcard1_mrz3(num):\n",
    "    with open('../example_data/text/all_names_unique.txt','r') as f:\n",
    "        sample_names = f.readlines()\n",
    "        sample_names = list(map(lambda x:x.strip(), sample_names))\n",
    "    generated_list = list()\n",
    "    for name in sample_names:\n",
    "        if len(name)<30:\n",
    "            token = name.split()\n",
    "            seq = token[0] + '<<' + '<'.join(token[1:])\n",
    "            generated_list.append(seq.ljust(30,'<'))\n",
    "    return generated_list[:num]"
   ]
  },
  {
   "cell_type": "code",
   "execution_count": 6,
   "metadata": {},
   "outputs": [],
   "source": [
    "def generate_idcard2_id(num):\n",
    "    generated_list = list()\n",
    "    for _ in range(num):\n",
    "        generated_list.append('{numb}{char}'.format(\n",
    "            numb = ''.join(random.choices(string.digits,k=12)),\n",
    "            char = random.choice(string.ascii_uppercase))\n",
    "        )\n",
    "    return generated_list"
   ]
  },
  {
   "cell_type": "code",
   "execution_count": 7,
   "metadata": {},
   "outputs": [],
   "source": [
    "def generate_idcard2_mrz1(num):\n",
    "    generated_list = list()\n",
    "    for _ in range(num):\n",
    "        generated_list.append('BIMOZ{}<{}<<<<<<<'.format(\n",
    "            ''.join(random.choices(string.digits,k=8)),\n",
    "            ''.join(random.choices(string.digits,k=9))\n",
    "        ))\n",
    "    return generated_list"
   ]
  },
  {
   "cell_type": "code",
   "execution_count": 8,
   "metadata": {},
   "outputs": [],
   "source": [
    "def generate_idcard2_mrz2(num):\n",
    "    generated_list = list()\n",
    "    for _ in range(num):\n",
    "        generated_list.append('{num1}{sex}{num2}MOZ{num3}{char}<<{num4}'.format(\n",
    "            num1=''.join(random.choices(string.digits,k=7)),\n",
    "            sex=random.choice(['M','F']),\n",
    "            num2=''.join(random.choices(string.digits,k=7)),\n",
    "            num3=''.join(random.choices(string.digits,k=8)),\n",
    "            char=random.choice(string.ascii_uppercase),\n",
    "            num4=random.choice(string.digits),\n",
    "        ))\n",
    "    return generated_list"
   ]
  },
  {
   "cell_type": "code",
   "execution_count": 9,
   "metadata": {},
   "outputs": [],
   "source": [
    "def generate_idcard2_mrz3(num):\n",
    "    return generate_idcard1_mrz3(num)"
   ]
  },
  {
   "cell_type": "code",
   "execution_count": 10,
   "metadata": {},
   "outputs": [],
   "source": [
    "# 091599-20041909337(091599-01/124)\n",
    "def generate_votecard1_id(num):\n",
    "    generated_list = list()\n",
    "    for _ in range(num):\n",
    "        generated_list.append('{num1}-{num2}({num1}-{num3}/{num4})'.format(\n",
    "            num1=''.join(random.choices(string.digits,k=6)),\n",
    "            num2=''.join(random.choices(string.digits,k=11)),\n",
    "            num3=''.join(random.choices(string.digits,k=2)),\n",
    "            num4=''.join(random.choices(string.digits,k=3)),\n",
    "        ))\n",
    "    return generated_list"
   ]
  },
  {
   "cell_type": "code",
   "execution_count": 11,
   "metadata": {},
   "outputs": [],
   "source": [
    "def generate_votecard2_id(num):\n",
    "    generated_list = list()\n",
    "    for _ in range(num):\n",
    "        generated_list.append('{num1}-{num2}({num3}-{num4}/{num5})'.format(\n",
    "            num1=''.join(random.choices(string.digits,k=6)),\n",
    "            num2=''.join(random.choices(string.digits,k=11)),\n",
    "            num3=''.join(random.choices(string.digits,k=6)),\n",
    "            num4=''.join(random.choices(string.digits,k=2)),\n",
    "            num5=''.join(random.choices(string.digits,k=3)),\n",
    "        ))\n",
    "    return generated_list"
   ]
  },
  {
   "cell_type": "code",
   "execution_count": 12,
   "metadata": {},
   "outputs": [],
   "source": [
    "def generate_passport_mrz1(num):\n",
    "    with open('../example_data/text/all_names_unique.txt','r') as f:\n",
    "        sample_names = f.readlines()\n",
    "        sample_names = list(map(lambda x:x.strip(), sample_names))\n",
    "    generated_list = list()\n",
    "    for name in sample_names:\n",
    "        if len(name)<44:\n",
    "            token = name.split()\n",
    "            seq = token[0] + '<<' + '<'.join(token[1:])\n",
    "            generated_list.append(seq.ljust(44,'<'))\n",
    "    return generated_list[:num]"
   ]
  },
  {
   "cell_type": "code",
   "execution_count": 13,
   "metadata": {},
   "outputs": [],
   "source": [
    "# AB12401122MOZ8910163F2801175081400607061B<86\n",
    "def generate_passport1_mrz2(num):\n",
    "    generated_list = list()\n",
    "    for _ in range(num):\n",
    "        generated_list.append('AB{num1}MOZ{num2}{sex}{num3}{char}<{num4}'.format(\n",
    "            num1=''.join(random.choices(string.digits,k=8)),\n",
    "            num2=''.join(random.choices(string.digits,k=7)),\n",
    "            sex=random.choice(['M','F']),\n",
    "            num3=''.join(random.choices(string.digits,k=19)),\n",
    "            char=random.choice(string.ascii_uppercase),\n",
    "            num4=''.join(random.choices(string.digits,k=2)),\n",
    "        ))\n",
    "    return generated_list"
   ]
  },
  {
   "cell_type": "code",
   "execution_count": 14,
   "metadata": {},
   "outputs": [],
   "source": [
    "# 15AN709096MOZ8209289M240423380701233<<<<<<82\n",
    "def generate_passport2_mrz2(num):\n",
    "    generated_list = list()\n",
    "    for _ in range(num):\n",
    "        generated_list.append('{num1}{char}{num2}MOZ{num3}{sex}{num4}<<<<<<{num5}'.format(\n",
    "            num1=''.join(random.choices(string.digits,k=2)),\n",
    "            char=''.join(random.choices(string.ascii_uppercase,k=2)),\n",
    "            num2=''.join(random.choices(string.digits,k=6)),\n",
    "            num3=''.join(random.choices(string.digits,k=7)),\n",
    "            sex=random.choice(['M','F']),\n",
    "            num4=''.join(random.choices(string.digits,k=15)),\n",
    "            num5=''.join(random.choices(string.digits,k=2)),\n",
    "        ))\n",
    "    return generated_list"
   ]
  },
  {
   "cell_type": "code",
   "execution_count": 15,
   "metadata": {},
   "outputs": [
    {
     "data": {
      "text/plain": [
       "10"
      ]
     },
     "execution_count": 15,
     "metadata": {},
     "output_type": "execute_result"
    }
   ],
   "source": [
    "def generate_drivercard_licensenum(num):\n",
    "    generated_list = list()\n",
    "    for _ in range(num):\n",
    "        generated_list.append('{num1}/{num2}'.format(\n",
    "            num1=''.join(random.choices(string.digits,k=8)),\n",
    "            num2=''.join(random.choice(string.digits)),\n",
    "        ))\n",
    "    return generated_list\n",
    "generate_drivercard_licensenum(2)[0].__len__()"
   ]
  },
  {
   "cell_type": "code",
   "execution_count": 16,
   "metadata": {},
   "outputs": [
    {
     "data": {
      "text/plain": [
       "'generate_idcard1_id'"
      ]
     },
     "execution_count": 16,
     "metadata": {},
     "output_type": "execute_result"
    }
   ],
   "source": [
    "generate_idcard1_id.__name__"
   ]
  },
  {
   "cell_type": "code",
   "execution_count": 17,
   "metadata": {},
   "outputs": [],
   "source": [
    "gen_funcs = [\n",
    "    generate_idcard1_id,\n",
    "    generate_idcard1_mrz1,\n",
    "    generate_idcard1_mrz2,\n",
    "    generate_idcard1_mrz3,\n",
    "    generate_idcard2_id,\n",
    "    generate_idcard2_mrz1,\n",
    "    generate_idcard2_mrz2,\n",
    "    generate_idcard2_mrz3,\n",
    "    generate_votecard1_id,\n",
    "    generate_votecard2_id,\n",
    "    generate_passport_mrz1,\n",
    "    generate_passport1_mrz2,\n",
    "    generate_passport2_mrz2,\n",
    "    generate_drivercard_licensenum\n",
    "]\n",
    "for func in gen_funcs:\n",
    "    with open(f'{func.__name__[9:]}.txt', 'w') as f:\n",
    "        generated = func(500)\n",
    "        f.write('\\n'.join(generated))"
   ]
  },
  {
   "cell_type": "code",
   "execution_count": 18,
   "metadata": {},
   "outputs": [],
   "source": [
    "# for file in os.listdir('../real_data/CCCD_BACK_TYPE2/V_MRZ3/'):\n",
    "#     if file.endswith('txt'):\n",
    "#         with open(os.path.join('../real_data/CCCD_BACK_TYPE2/V_MRZ3/',file),'r',encoding='utf-8') as f:\n",
    "#             annot = f.read()\n",
    "#             if len(annot)!=30:\n",
    "#                 print(file, len(annot), annot)"
   ]
  },
  {
   "cell_type": "code",
   "execution_count": null,
   "metadata": {},
   "outputs": [],
   "source": []
  }
 ],
 "metadata": {
  "kernelspec": {
   "display_name": "torch-coding",
   "language": "python",
   "name": "python3"
  },
  "language_info": {
   "codemirror_mode": {
    "name": "ipython",
    "version": 3
   },
   "file_extension": ".py",
   "mimetype": "text/x-python",
   "name": "python",
   "nbconvert_exporter": "python",
   "pygments_lexer": "ipython3",
   "version": "3.8.8"
  }
 },
 "nbformat": 4,
 "nbformat_minor": 2
}
