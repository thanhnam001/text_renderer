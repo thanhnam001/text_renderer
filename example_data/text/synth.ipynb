{
 "cells": [
  {
   "cell_type": "code",
   "execution_count": 1,
   "metadata": {},
   "outputs": [],
   "source": [
    "import random\n",
    "import string\n",
    "import os\n",
    "random.seed(0)"
   ]
  },
  {
   "cell_type": "code",
   "execution_count": 2,
   "metadata": {},
   "outputs": [],
   "source": [
    "def generate_card(num):\n",
    "    generated_list = list()\n",
    "    for _ in range(num):\n",
    "        generated_list.append('{numb}'.format(\n",
    "            numb = ''.join(random.choices(string.digits,k=13))\n",
    "        ))\n",
    "    return generated_list"
   ]
  },
  {
   "cell_type": "code",
   "execution_count": 3,
   "metadata": {},
   "outputs": [],
   "source": [
    "def generate_sim(num):\n",
    "    generated_list = list()\n",
    "    for _ in range(num):\n",
    "        generated_list.append('{numb}'.format(\n",
    "            numb = ''.join(random.choices(string.digits,k=random.randint(4,5)))\n",
    "        ))\n",
    "    return generated_list"
   ]
  },
  {
   "cell_type": "code",
   "execution_count": 6,
   "metadata": {},
   "outputs": [],
   "source": [
    "gen_funcs = [\n",
    "    generate_card,\n",
    "    generate_sim,\n",
    "]\n",
    "for func in gen_funcs:\n",
    "    with open(f'{func.__name__[9:]}_v2.txt', 'w') as f:\n",
    "        generated = func(1200)\n",
    "        f.write('\\n'.join(generated))"
   ]
  }
 ],
 "metadata": {
  "kernelspec": {
   "display_name": "torch-coding",
   "language": "python",
   "name": "python3"
  },
  "language_info": {
   "codemirror_mode": {
    "name": "ipython",
    "version": 3
   },
   "file_extension": ".py",
   "mimetype": "text/x-python",
   "name": "python",
   "nbconvert_exporter": "python",
   "pygments_lexer": "ipython3",
   "version": "3.8.8"
  }
 },
 "nbformat": 4,
 "nbformat_minor": 2
}
